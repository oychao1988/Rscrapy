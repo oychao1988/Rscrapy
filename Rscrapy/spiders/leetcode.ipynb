{
 "cells": [
  {
   "cell_type": "markdown",
   "metadata": {},
   "source": [
    "# 爬取Leetcode习题"
   ]
  },
  {
   "cell_type": "code",
   "execution_count": 1,
   "metadata": {},
   "outputs": [],
   "source": [
    "import json\n",
    "import requests\n",
    "import threadpool"
   ]
  },
  {
   "cell_type": "markdown",
   "metadata": {},
   "source": [
    "## 第一部分：获取题目内容"
   ]
  },
  {
   "cell_type": "markdown",
   "metadata": {},
   "source": [
    "### 获取所有题目描述信息的响应"
   ]
  },
  {
   "cell_type": "code",
   "execution_count": null,
   "metadata": {},
   "outputs": [],
   "source": [
    "def get_all_description_response():\n",
    "    all_description_url = 'https://leetcode-cn.com/api/problems/all/'\n",
    "    response = requests.get(all_description_url)\n",
    "    return response"
   ]
  },
  {
   "cell_type": "markdown",
   "metadata": {},
   "source": [
    "### 从题目描述信息的响应中解析出描述信息"
   ]
  },
  {
   "cell_type": "code",
   "execution_count": null,
   "metadata": {},
   "outputs": [],
   "source": [
    "def parse_all_description_list(response):\n",
    "    text = response.text\n",
    "    all_description_list = json.loads(text)['stat_status_pairs']\n",
    "    return all_description_list"
   ]
  },
  {
   "cell_type": "markdown",
   "metadata": {},
   "source": [
    "### 提取题目标题、难度等级、题目序号"
   ]
  },
  {
   "cell_type": "code",
   "execution_count": null,
   "metadata": {},
   "outputs": [],
   "source": [
    "def get_title_and_level(all_description_list):\n",
    "    title_and_level_pairs = []\n",
    "    for description in all_description_list:\n",
    "        item = {}\n",
    "        item['question_title_slug'] = description['stat']['question__title_slug']\n",
    "        item['frontend_question_id'] = description['stat']['frontend_question_id']\n",
    "        item['level'] = description['difficulty']['level']\n",
    "        title_and_level_pairs.append(item)\n",
    "    return title_and_level_pairs"
   ]
  },
  {
   "cell_type": "markdown",
   "metadata": {},
   "source": [
    "### 获取单个问题的响应"
   ]
  },
  {
   "cell_type": "code",
   "execution_count": null,
   "metadata": {},
   "outputs": [],
   "source": [
    "def get_question_response(question_title_slug):\n",
    "    question_query_url = 'https://leetcode-cn.com/graphql'\n",
    "    request_payload = {\"operationName\":\"questionData\",\n",
    "                   \"variables\":{\"titleSlug\":question_title_slug},\n",
    "                   \"query\":\"query questionData($titleSlug: String!) {\\n  question(titleSlug: $titleSlug) {\\n    questionId\\n    questionFrontendId\\n    boundTopicId\\n    title\\n    titleSlug\\n    content\\n    translatedTitle\\n    translatedContent\\n    isPaidOnly\\n    difficulty\\n    likes\\n    dislikes\\n    isLiked\\n    similarQuestions\\n    contributors {\\n      username\\n      profileUrl\\n      avatarUrl\\n      __typename\\n    }\\n    langToValidPlayground\\n    topicTags {\\n      name\\n      slug\\n      translatedName\\n      __typename\\n    }\\n    companyTagStats\\n    codeSnippets {\\n      lang\\n      langSlug\\n      code\\n      __typename\\n    }\\n    stats\\n    hints\\n    solution {\\n      id\\n      canSeeDetail\\n      __typename\\n    }\\n    status\\n    sampleTestCase\\n    metaData\\n    judgerAvailable\\n    judgeType\\n    mysqlSchemas\\n    enableRunCode\\n    enableTestMode\\n    envInfo\\n    __typename\\n  }\\n}\\n\"}\n",
    "    response = requests.post(question_query_url, json=request_payload)\n",
    "    return response"
   ]
  },
  {
   "cell_type": "markdown",
   "metadata": {},
   "source": [
    "### 解析问题的内容文本"
   ]
  },
  {
   "cell_type": "code",
   "execution_count": null,
   "metadata": {},
   "outputs": [],
   "source": [
    "def parse_question_content(response):\n",
    "    text = response.text\n",
    "    question_content = json.loads(text)['data']['question']['translatedContent']\n",
    "    return question_content"
   ]
  },
  {
   "cell_type": "code",
   "execution_count": null,
   "metadata": {},
   "outputs": [],
   "source": [
    "def get_question_content(pair):\n",
    "    print('正在获取：', pair['question_title_slug'])\n",
    "    response = get_question_response(pair['question_title_slug'])\n",
    "    question_content = parse_question_content(response)\n",
    "    pair['question_content'] = question_content"
   ]
  },
  {
   "cell_type": "markdown",
   "metadata": {},
   "source": [
    "### 主程序"
   ]
  },
  {
   "cell_type": "code",
   "execution_count": null,
   "metadata": {},
   "outputs": [],
   "source": [
    "def main():\n",
    "    # 获取描述响应\n",
    "    response = get_all_description_response()\n",
    "    # 解析描述信息获得信息列表\n",
    "    all_description_list = parse_all_description_list(response)\n",
    "    # 提取题目标题、难度等级、题目序号\n",
    "    title_and_level_pairs = get_title_and_level(all_description_list)\n",
    "    pool = threadpool.ThreadPool(10)\n",
    "    requests = threadpool.makeRequests(get_question_content, title_and_level_pairs)\n",
    "    [pool.putRequest(req) for req in requests]\n",
    "    pool.wait()\n",
    "    return title_and_level_pairs"
   ]
  },
  {
   "cell_type": "code",
   "execution_count": null,
   "metadata": {},
   "outputs": [],
   "source": [
    "result = main()"
   ]
  },
  {
   "cell_type": "markdown",
   "metadata": {},
   "source": [
    "### 将结果保存到文件中"
   ]
  },
  {
   "cell_type": "code",
   "execution_count": null,
   "metadata": {},
   "outputs": [],
   "source": [
    "with open('leecode.json', 'w') as f:\n",
    "    json.dump(result, f)"
   ]
  },
  {
   "cell_type": "markdown",
   "metadata": {},
   "source": [
    "## 第二部分：生成html文件"
   ]
  },
  {
   "cell_type": "code",
   "execution_count": null,
   "metadata": {},
   "outputs": [],
   "source": [
    "import pandas as pd"
   ]
  },
  {
   "cell_type": "markdown",
   "metadata": {},
   "source": [
    "### 读取文件"
   ]
  },
  {
   "cell_type": "code",
   "execution_count": null,
   "metadata": {},
   "outputs": [],
   "source": [
    "data = pd.read_json('../Downloads/leecode.json')\n",
    "data = data.sort_values('frontend_question_id')\n",
    "data.head()"
   ]
  },
  {
   "cell_type": "markdown",
   "metadata": {},
   "source": [
    "### 读取html模板"
   ]
  },
  {
   "cell_type": "code",
   "execution_count": null,
   "metadata": {},
   "outputs": [],
   "source": [
    "with open('template.html', 'r') as f:\n",
    "    html = f.read()"
   ]
  },
  {
   "cell_type": "markdown",
   "metadata": {},
   "source": [
    "### 拼接内容字符串"
   ]
  },
  {
   "cell_type": "code",
   "execution_count": null,
   "metadata": {},
   "outputs": [],
   "source": [
    "content = ''\n",
    "content += '<h1 id=0>leetcode题库</h1>'\n",
    "content += '<div>'\n",
    "for each in data.index[::-1]:\n",
    "    question_title_slug = data.iloc[each, 3]\n",
    "    content += '<div>%d.<a href=#%d>%s</a></div>' % (each+1, each+1, question_title_slug)\n",
    "content += '</div>'\n",
    "\n",
    "content += '<div>'\n",
    "for each in data.index[::-1]:\n",
    "    level = data.iloc[each, 1]\n",
    "    question_content = data.iloc[each, 2]\n",
    "    question_title_slug = data.iloc[each, 3]\n",
    "    content += '<div>'\n",
    "    content += '<h2 id=%d>%d.%s</h2> difficulty-level:%s\\n' % (each+1, each+1, question_title_slug, level)\n",
    "    content += '<div align=\"right\"><a href=#0>返回</a></div>'\n",
    "    content += question_content\n",
    "    content += '</div>'\n",
    "content += '</div>'"
   ]
  },
  {
   "cell_type": "markdown",
   "metadata": {},
   "source": [
    "### 将拼接好的字符串替换到html模板中保存"
   ]
  },
  {
   "cell_type": "code",
   "execution_count": null,
   "metadata": {},
   "outputs": [],
   "source": [
    "html = html.replace('%title%', 'leetcode题库')\n",
    "html = html.replace('%content%', content)\n",
    "with open('/home/python/Desktop/leetcode.html', 'w') as f:\n",
    "    f.write(html)"
   ]
  }
 ],
 "metadata": {
  "kernelspec": {
   "display_name": "Python 3",
   "language": "python",
   "name": "python3"
  },
  "language_info": {
   "codemirror_mode": {
    "name": "ipython",
    "version": 3
   },
   "file_extension": ".py",
   "mimetype": "text/x-python",
   "name": "python",
   "nbconvert_exporter": "python",
   "pygments_lexer": "ipython3",
   "version": "3.5.2"
  }
 },
 "nbformat": 4,
 "nbformat_minor": 2
}
